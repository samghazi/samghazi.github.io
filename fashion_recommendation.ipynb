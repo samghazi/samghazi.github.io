{
  "nbformat": 4,
  "nbformat_minor": 0,
  "metadata": {
    "colab": {
      "provenance": [],
      "authorship_tag": "ABX9TyP4kRB8tEkc2CHhasZzDvB9",
      "include_colab_link": true
    },
    "kernelspec": {
      "name": "python3",
      "display_name": "Python 3"
    },
    "language_info": {
      "name": "python"
    }
  },
  "cells": [
    {
      "cell_type": "markdown",
      "metadata": {
        "id": "view-in-github",
        "colab_type": "text"
      },
      "source": [
        "<a href=\"https://colab.research.google.com/github/samghazi/samghazi.github.io/blob/master/fashion_recommendation.ipynb\" target=\"_parent\"><img src=\"https://colab.research.google.com/assets/colab-badge.svg\" alt=\"Open In Colab\"/></a>"
      ]
    },
    {
      "cell_type": "markdown",
      "source": [
        "INSTALL THE LIBRARIES WHICH ARE NOT ALREADY AVAILABLE ON COLAB"
      ],
      "metadata": {
        "id": "6vuQLkTgsWAx"
      }
    },
    {
      "cell_type": "code",
      "source": [
        "!pip install surprise"
      ],
      "metadata": {
        "colab": {
          "base_uri": "https://localhost:8080/"
        },
        "id": "jSzQSG5or7Vq",
        "outputId": "b297d1a8-14ed-40e0-caf4-eee5c59462c2"
      },
      "execution_count": 2,
      "outputs": [
        {
          "output_type": "stream",
          "name": "stdout",
          "text": [
            "Collecting surprise\n",
            "  Downloading surprise-0.1-py2.py3-none-any.whl (1.8 kB)\n",
            "Collecting scikit-surprise (from surprise)\n",
            "  Downloading scikit-surprise-1.1.3.tar.gz (771 kB)\n",
            "\u001b[2K     \u001b[90m━━━━━━━━━━━━━━━━━━━━━━━━━━━━━━━━━━━━━━\u001b[0m \u001b[32m772.0/772.0 kB\u001b[0m \u001b[31m11.0 MB/s\u001b[0m eta \u001b[36m0:00:00\u001b[0m\n",
            "\u001b[?25h  Preparing metadata (setup.py) ... \u001b[?25l\u001b[?25hdone\n",
            "Requirement already satisfied: joblib>=1.0.0 in /usr/local/lib/python3.10/dist-packages (from scikit-surprise->surprise) (1.3.2)\n",
            "Requirement already satisfied: numpy>=1.17.3 in /usr/local/lib/python3.10/dist-packages (from scikit-surprise->surprise) (1.23.5)\n",
            "Requirement already satisfied: scipy>=1.3.2 in /usr/local/lib/python3.10/dist-packages (from scikit-surprise->surprise) (1.11.2)\n",
            "Building wheels for collected packages: scikit-surprise\n",
            "  Building wheel for scikit-surprise (setup.py) ... \u001b[?25l\u001b[?25hdone\n",
            "  Created wheel for scikit-surprise: filename=scikit_surprise-1.1.3-cp310-cp310-linux_x86_64.whl size=3156228 sha256=69ca60dbc876da8864d744645b86e20f2f96f45e2cb3d37065471a07dbd2eb17\n",
            "  Stored in directory: /root/.cache/pip/wheels/a5/ca/a8/4e28def53797fdc4363ca4af740db15a9c2f1595ebc51fb445\n",
            "Successfully built scikit-surprise\n",
            "Installing collected packages: scikit-surprise, surprise\n",
            "Successfully installed scikit-surprise-1.1.3 surprise-0.1\n"
          ]
        }
      ]
    },
    {
      "cell_type": "markdown",
      "source": [
        "IMPORT LIBRARIES"
      ],
      "metadata": {
        "id": "DqYDj7zrrQWt"
      }
    },
    {
      "cell_type": "code",
      "execution_count": 3,
      "metadata": {
        "id": "WI8---wsqYw1"
      },
      "outputs": [],
      "source": [
        "import pandas as pd\n",
        "from surprise import Dataset, Reader, SVD\n",
        "from sklearn.feature_extraction.text import TfidfVectorizer\n",
        "from sklearn.metrics.pairwise import linear_kernel"
      ]
    },
    {
      "cell_type": "markdown",
      "source": [
        "READ DATASET AND ENSURE IT CAN BE READ"
      ],
      "metadata": {
        "id": "UFka0V9DrO2J"
      }
    },
    {
      "cell_type": "code",
      "source": [
        "data = pd.read_csv(\"fashion_products.csv\")\n",
        "print(data.head())"
      ],
      "metadata": {
        "colab": {
          "base_uri": "https://localhost:8080/"
        },
        "id": "79rS6b8ZrqNR",
        "outputId": "26893436-fcd0-44aa-8ce1-9f3ee50f3ed1"
      },
      "execution_count": 5,
      "outputs": [
        {
          "output_type": "stream",
          "name": "stdout",
          "text": [
            "   User ID  Product ID Product Name   Brand         Category  Price    Rating  \\\n",
            "0       19           1        Dress  Adidas    Men's Fashion     40  1.043159   \n",
            "1       97           2        Shoes     H&M  Women's Fashion     82  4.026416   \n",
            "2       25           3        Dress  Adidas  Women's Fashion     44  3.337938   \n",
            "3       57           4        Shoes    Zara    Men's Fashion     23  1.049523   \n",
            "4       79           5      T-shirt  Adidas    Men's Fashion     79  4.302773   \n",
            "\n",
            "    Color Size  \n",
            "0   Black   XL  \n",
            "1   Black    L  \n",
            "2  Yellow   XL  \n",
            "3   White    S  \n",
            "4   Black    M  \n"
          ]
        }
      ]
    },
    {
      "cell_type": "markdown",
      "source": [
        "CONTENT BASED FILTERING"
      ],
      "metadata": {
        "id": "jGkbFRBosud6"
      }
    },
    {
      "cell_type": "code",
      "source": [
        "content_df = data[['Product ID', 'Product Name', 'Brand',\n",
        "                   'Category', 'Color', 'Size']]\n",
        "content_df['Content'] = content_df.apply(lambda row: ' '.join(row.dropna().astype(str)), axis=1)\n",
        "\n",
        "# Use TF-IDF vectorizer to convert content into a matrix of TF-IDF features\n",
        "tfidf_vectorizer = TfidfVectorizer()\n",
        "content_matrix = tfidf_vectorizer.fit_transform(content_df['Content'])\n",
        "\n",
        "content_similarity = linear_kernel(content_matrix, content_matrix)\n",
        "\n",
        "reader = Reader(rating_scale=(1, 5))\n",
        "data = Dataset.load_from_df(data[['User ID',\n",
        "                                  'Product ID',\n",
        "                                  'Rating']], reader)\n",
        "\n",
        "def get_content_based_recommendations(product_id, top_n):\n",
        "    index = content_df[content_df['Product ID'] == product_id].index[0]\n",
        "    similarity_scores = content_similarity[index]\n",
        "    similar_indices = similarity_scores.argsort()[::-1][1:top_n + 1]\n",
        "    recommendations = content_df.loc[similar_indices, 'Product ID'].values\n",
        "    return recommendations"
      ],
      "metadata": {
        "colab": {
          "base_uri": "https://localhost:8080/"
        },
        "id": "NThC46uusuFy",
        "outputId": "173fbaf5-4a0c-4a9f-b67c-02830706c565"
      },
      "execution_count": 6,
      "outputs": [
        {
          "output_type": "stream",
          "name": "stderr",
          "text": [
            "<ipython-input-6-8b9183f797f5>:3: SettingWithCopyWarning: \n",
            "A value is trying to be set on a copy of a slice from a DataFrame.\n",
            "Try using .loc[row_indexer,col_indexer] = value instead\n",
            "\n",
            "See the caveats in the documentation: https://pandas.pydata.org/pandas-docs/stable/user_guide/indexing.html#returning-a-view-versus-a-copy\n",
            "  content_df['Content'] = content_df.apply(lambda row: ' '.join(row.dropna().astype(str)), axis=1)\n"
          ]
        }
      ]
    },
    {
      "cell_type": "markdown",
      "source": [
        "COLLABORATIVE FILTERING"
      ],
      "metadata": {
        "id": "EwXK6KFbvGCk"
      }
    },
    {
      "cell_type": "code",
      "source": [
        "algo = SVD()\n",
        "trainset = data.build_full_trainset()\n",
        "algo.fit(trainset)\n",
        "\n",
        "def get_collaborative_filtering_recommendations(user_id, top_n):\n",
        "    testset = trainset.build_anti_testset()\n",
        "    testset = filter(lambda x: x[0] == user_id, testset)\n",
        "    predictions = algo.test(testset)\n",
        "    predictions.sort(key=lambda x: x.est, reverse=True)\n",
        "    recommendations = [prediction.iid for prediction in predictions[:top_n]]\n",
        "    return recommendations"
      ],
      "metadata": {
        "id": "zC9NCgpAvCHz"
      },
      "execution_count": 7,
      "outputs": []
    },
    {
      "cell_type": "markdown",
      "source": [
        "HYBRID RECOMMENDATION APPROACH"
      ],
      "metadata": {
        "id": "Op5p4g57xf2t"
      }
    },
    {
      "cell_type": "code",
      "source": [
        "def get_hybrid_recommendations(user_id, product_id, top_n):\n",
        "    content_based_recommendations = get_content_based_recommendations(product_id, top_n)\n",
        "    collaborative_filtering_recommendations = get_collaborative_filtering_recommendations(user_id, top_n)\n",
        "    hybrid_recommendations = list(set(content_based_recommendations + collaborative_filtering_recommendations))\n",
        "    return hybrid_recommendations[:top_n]"
      ],
      "metadata": {
        "id": "7Pbr3LmVxkeT"
      },
      "execution_count": 8,
      "outputs": []
    },
    {
      "cell_type": "markdown",
      "source": [
        "USING THE RECOMMENDATION SYSTEM ON THE FASHION DATASET"
      ],
      "metadata": {
        "id": "t7beRvS8xsmx"
      }
    },
    {
      "cell_type": "code",
      "source": [
        "user_id = 25\n",
        "product_id = 5\n",
        "top_n = 10\n",
        "recommendations = get_hybrid_recommendations(user_id, product_id, top_n)\n",
        "\n",
        "print(f\"Hybrid Recommendations for User {user_id} based on Product {product_id}:\")\n",
        "for i, recommendation in enumerate(recommendations):\n",
        "    print(f\"{i + 1}. Product ID: {recommendation}\")\n",
        "    print(f\"{i + 1}. Product ID: {recommendation}\")"
      ],
      "metadata": {
        "colab": {
          "base_uri": "https://localhost:8080/"
        },
        "id": "6X1l9DeGx1Yz",
        "outputId": "59d9bef4-e46f-4464-dcf2-33c1b973f058"
      },
      "execution_count": 12,
      "outputs": [
        {
          "output_type": "stream",
          "name": "stdout",
          "text": [
            "Hybrid Recommendations for User 25 based on Product 5:\n",
            "1. Product ID: 640\n",
            "1. Product ID: 640\n",
            "2. Product ID: 1762\n",
            "2. Product ID: 1762\n",
            "3. Product ID: 1220\n",
            "3. Product ID: 1220\n",
            "4. Product ID: 103\n",
            "4. Product ID: 103\n",
            "5. Product ID: 328\n",
            "5. Product ID: 328\n",
            "6. Product ID: 654\n",
            "6. Product ID: 654\n",
            "7. Product ID: 1553\n",
            "7. Product ID: 1553\n",
            "8. Product ID: 661\n",
            "8. Product ID: 661\n",
            "9. Product ID: 1621\n",
            "9. Product ID: 1621\n",
            "10. Product ID: 1207\n",
            "10. Product ID: 1207\n"
          ]
        }
      ]
    }
  ]
}